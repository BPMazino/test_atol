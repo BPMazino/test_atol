{
 "cells": [
  {
   "cell_type": "code",
   "execution_count": 13,
   "metadata": {},
   "outputs": [],
   "source": [
    "import os\n",
    "import numpy as np\n",
    "from itertools import product\n",
    "import sys\n",
    "\n",
    "graph_problem = \"MUTAG\"\n",
    "graph_folder = \"../../perslay/tutorial/data/\" + graph_problem + \"/\" # this should point to a perslay repository\n",
    "sys.path.append(os.path.abspath(\"..\"))"
   ]
  },
  {
   "cell_type": "code",
   "execution_count": 14,
   "metadata": {},
   "outputs": [],
   "source": [
    "import atol\n",
    "from sklearn.cluster import KMeans\n",
    "from atol.atol import Atol\n"
   ]
  },
  {
   "cell_type": "code",
   "execution_count": 15,
   "metadata": {},
   "outputs": [
    {
     "name": "stdout",
     "output_type": "stream",
     "text": [
      "Feature vectors:\n",
      " [[1.13168314 1.18588228 0.01199125 0.08597276]\n",
      " [1.07596094 1.0398231  0.01041078 0.07452165]\n",
      " [0.09467611 0.01325094 1.33308059 1.16216953]]\n",
      "Feature vector for measure 'a':\n",
      " [1.13168314 1.18588228 0.01199125 0.08597276]\n"
     ]
    }
   ],
   "source": [
    "import numpy as np\n",
    "from sklearn.cluster import KMeans\n",
    "\n",
    "# Sample measures\n",
    "a = np.array([[1, 2], [3, 4], [5, 6]])\n",
    "b = np.array([[1.1, 2.2], [3.3, 4.4], [5.5, 6.6]])\n",
    "c = np.array([[-1, -2], [-3, -4], [-5, -6]])\n",
    "X = [a, b, c]\n",
    "y = [0, 0, 1]  # Labels for supervised learning\n",
    "\n",
    "# Instantiate the Atol vectoriser with supervised learning enabled\n",
    "atol_vectoriser = Atol(quantiser=KMeans(n_clusters=2), supervised=True)\n",
    "\n",
    "# Fit the model and transform the data\n",
    "atol_vectoriser.fit(X, y)\n",
    "features = atol_vectoriser.transform(X)\n",
    "\n",
    "print(\"Feature vectors:\\n\", features)\n",
    "\n",
    "# Vectorize a single measure\n",
    "single_feature = atol_vectoriser(a)\n",
    "print(\"Feature vector for measure 'a':\\n\", single_feature)\n"
   ]
  },
  {
   "cell_type": "code",
   "execution_count": null,
   "metadata": {},
   "outputs": [],
   "source": []
  }
 ],
 "metadata": {
  "kernelspec": {
   "display_name": "gda",
   "language": "python",
   "name": "python3"
  },
  "language_info": {
   "codemirror_mode": {
    "name": "ipython",
    "version": 3
   },
   "file_extension": ".py",
   "mimetype": "text/x-python",
   "name": "python",
   "nbconvert_exporter": "python",
   "pygments_lexer": "ipython3",
   "version": "3.11.9"
  }
 },
 "nbformat": 4,
 "nbformat_minor": 2
}
